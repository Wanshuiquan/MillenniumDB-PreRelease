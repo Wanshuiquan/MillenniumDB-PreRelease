{
 "cells": [
  {
   "cell_type": "code",
   "execution_count": 1,
   "metadata": {},
   "outputs": [],
   "source": [
    "import pickle \n",
    "import numpy as np\n",
    "import string \n",
    "import networkx  as nn \n",
    "\n",
    "with open(\"result/fb_result.pkl\",\"rb+\") as f:\n",
    "    data_fb_res = pickle.loads(f.read()) \n",
    "\n",
    "refine_data = []\n",
    "data = data_fb_res[0]\n",
    "for data in data_fb_res:\n",
    "    refine_res = list(filter(lambda x: \"N\"  in x, data[2]))\n",
    "    refine_res = list(map(lambda x : x.split(\"\\n\")[1], refine_res))\n",
    "    refine_res = list(map(lambda x: x.split(\",\")[1], refine_res))\n",
    "    refine_data.append((data[1], refine_res))\n"
   ]
  },
  {
   "cell_type": "code",
   "execution_count": 2,
   "metadata": {},
   "outputs": [],
   "source": [
    "import re\n",
    "def get_edge(p:str):\n",
    "    regex_node = re.compile(\"N[0-9]+\")\n",
    "    regex_edge = re.compile(\":.\")\n",
    "    node = regex_node.search(p).group()  \n",
    "\n",
    "    edge = regex_edge.search(p).group() if not regex_edge.search(p) is None else \"\" \n",
    "    if edge == \"\":\n",
    "        return ([node])\n",
    "    else:\n",
    "         return (node, edge.replace(\":\",\"\").strip())\n",
    "\n",
    "def get_node(p:str):\n",
    "    regex_node = re.compile(\"N[0-9]+\")\n",
    "    regex_edge = re.compile(\":.\")\n",
    "    node = regex_node.search(p).group()  \n",
    "    return node \n",
    "\n",
    "def parse_path_via_edge(path:str) -> list[str]:\n",
    "    seq = path.replace(\"]\",\"\").replace(\"[\", \"\").split(\"->\")\n",
    "    seq = list(map(lambda x: get_edge(x), seq))\n",
    "    sequnce = [ ]\n",
    "    for i in range(len(seq)):\n",
    "        if len(seq[i+1]) == 1:\n",
    "            sequnce.append((seq[i][0], seq[i][1], seq[i+1][0]))\n",
    "            return sequnce\n",
    "        else:\n",
    "            sequnce.append((seq[i][0], seq[i][1], seq[i+1][0]))\n",
    "\n",
    "def parse_path_seq(path:str) -> list[str]:\n",
    "    seq = path.replace(\"]\",\"\").replace(\"[\", \"\").split(\"->\")\n",
    "    seq = list(map(lambda x: get_node(x), seq))\n",
    "    return seq\n"
   ]
  },
  {
   "cell_type": "code",
   "execution_count": 3,
   "metadata": {},
   "outputs": [],
   "source": [
    "import networkx as nn \n",
    "graph = nn.DiGraph()\n",
    "with open(\"data/facebook.qm\", \"r\") as fb:\n",
    "    file = fb.readlines()\n",
    "    \n",
    "    for line in file:\n",
    "        if \"->\" in line:\n",
    "            edge, ty = line.strip().split(\":\") \n",
    "            src, dst = edge.split(\"->\")\n",
    "            graph.add_edge(src.strip(), dst.strip())\n",
    "        else:\n",
    "            node, age, name, x, y , height, status = line.split(\" \")\n",
    "            node_name = node.split(\":\")[0]\n",
    "            age_val = age.split(\":\")[1]\n",
    "            name_val = name.split(\":\")[1]\n",
    "            x_val = x.split(\":\")[1]\n",
    "            y_val = y.split(\":\")[1]\n",
    "            height_val = height.split(\":\")[1]\n",
    "            status_val = status.split(\":\")[1].replace(\"\\n\",\"\").replace('\\\"', \"\").strip() \n",
    "            graph.add_node(node_name, age= age_val, name = name_val, pos_x = x_val, pos_y = y_val, height = height_val, status = status_val)\n"
   ]
  },
  {
   "cell_type": "code",
   "execution_count": 4,
   "metadata": {},
   "outputs": [],
   "source": [
    "### valid path exists in the Graph \n",
    "for expriment in refine_data:\n",
    "    for path in expriment[1]:\n",
    "        edge_seq = parse_path_via_edge(path)\n",
    "        for edge in edge_seq:\n",
    "            try:\n",
    "                assert graph.has_edge(edge[0], edge[2])\n",
    "            except AssertionError as _:\n",
    "                print(expriment[0] + path)\n"
   ]
  },
  {
   "cell_type": "code",
   "execution_count": 5,
   "metadata": {},
   "outputs": [],
   "source": [
    "### valid money, \n",
    "# there should be a model for p, q, such that each node satisfy p < age and q > age and q - p < 7\n",
    "import z3.z3 as z3 \n",
    "p = z3.Real(\"p\") \n",
    "q = z3.Real(\"q\")\n",
    "money_query_data = refine_data[1][1]\n",
    "wrong = 0\n",
    "for path in money_query_data:\n",
    "    path_seq = parse_path_seq(path)\n",
    "    solver = z3.Solver()\n",
    "    for node in path_seq:\n",
    "        age = float(graph.nodes[node][\"age\"])\n",
    "        solver.add(p< age)\n",
    "        solver.add(q> age)\n",
    "        solver.add(q-p < 7)\n",
    "    try:\n",
    "        assert solver.check()== z3.sat\n",
    "    except AssertionError as _:\n",
    "        wrong = wrong + 1\n",
    "        print(path_seq)"
   ]
  },
  {
   "cell_type": "code",
   "execution_count": 6,
   "metadata": {},
   "outputs": [],
   "source": [
    "### valid date query, only test the start point and the end point \n",
    "import z3.z3 as z3 \n",
    "p = z3.Real(\"p\") \n",
    "q = z3.Real(\"q\")\n",
    "money_query_data = refine_data[0][1]\n",
    "wrong = 0\n",
    "for path in money_query_data:\n",
    "    path_seq = parse_path_seq(path)\n",
    "    solver = z3.Solver()\n",
    "    src_x = graph.nodes[path_seq[0]][\"pos_x\"]\n",
    "    src_y = graph.nodes[path_seq[0]][\"pos_y\"]\n",
    "    src_age = graph.nodes[path_seq[0]][\"age\"]\n",
    "    dst_x = graph.nodes[path_seq[-1]][\"pos_x\"]\n",
    "    dst_y = graph.nodes[path_seq[-1]][\"pos_y\"]\n",
    "    dst_age = graph.nodes[path_seq[-1]][\"age\"]\n",
    "    try:\n",
    "        assert float(src_age) *0.5 + 7 <= float(dst_age) \n",
    "        assert abs(float(src_x) - float(dst_x)) + abs(float(src_y) - float(dst_y)) <= 20 \n",
    "        assert graph.nodes[path_seq[-1]][\"status\"] == \"single\"\n",
    "    except AssertionError as _:\n",
    "        wrong = wrong + 1\n",
    "        print(path_seq)"
   ]
  },
  {
   "cell_type": "code",
   "execution_count": 7,
   "metadata": {},
   "outputs": [],
   "source": [
    "### valid central path query, validate that there is an x, y such that abs(x - node.x) + abs(y - node.y) <= 35\n",
    "import z3.z3 as z3 \n",
    "p = z3.Real(\"p\") \n",
    "q = z3.Real(\"q\")\n",
    "money_query_data = refine_data[2][1]\n",
    "wrong = 0\n",
    "for path in money_query_data:\n",
    "    path_seq = parse_path_seq(path)\n",
    "    solver = z3.Solver()\n",
    "    x = z3.Real(\"x\")\n",
    "    y = z3.Real(\"y\")\n",
    "    for node in path_seq:\n",
    "        src_x = graph.nodes[node][\"pos_x\"]\n",
    "        src_y = graph.nodes[node][\"pos_y\"]  \n",
    "        solver.add(z3.Abs(x - src_x) + z3.Abs(y - src_y) <= 35)\n",
    "    try:\n",
    "        assert solver.check() == z3.sat\n",
    "    except AssertionError as _:\n",
    "        wrong = wrong + 1\n",
    "        print(path_seq)"
   ]
  },
  {
   "cell_type": "markdown",
   "metadata": {},
   "source": [
    "Validations for Youtube Graph "
   ]
  }
 ],
 "metadata": {
  "kernelspec": {
   "display_name": "Python 3",
   "language": "python",
   "name": "python3"
  },
  "language_info": {
   "codemirror_mode": {
    "name": "ipython",
    "version": 3
   },
   "file_extension": ".py",
   "mimetype": "text/x-python",
   "name": "python",
   "nbconvert_exporter": "python",
   "pygments_lexer": "ipython3",
   "version": "3.10.12"
  }
 },
 "nbformat": 4,
 "nbformat_minor": 2
}
