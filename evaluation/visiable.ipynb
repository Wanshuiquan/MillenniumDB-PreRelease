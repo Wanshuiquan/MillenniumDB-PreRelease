{
 "cells": [
  {
   "cell_type": "code",
   "execution_count": 13,
   "metadata": {},
   "outputs": [
    {
     "name": "stdout",
     "output_type": "stream",
     "text": [
      "DATING query, the max time is 12019.314 ms, the average time is 6679.270 ms, and the variance is 15347130.530\n",
      "MONEY query, the max time is 1160.022 ms, the average time is 307.149 ms, and the variance is 185600.498\n",
      "CENTRAL query, the max time is 1177.504 ms, the average time is 316.642 ms, and the variance is 193600.389\n"
     ]
    }
   ],
   "source": [
    "import pickle \n",
    "import numpy as np\n",
    "with open(\"result/fb_static.pkl\",\"rb+\") as f:\n",
    "    data_fb = pickle.loads(f.read()) \n",
    "\n",
    "for i in data_fb:\n",
    "    print(f\"{i[1]} query, the max time is {format(np.max(i[2]),'.3f')} ms, the average time is {format(np.mean(i[2]),'.3f')} ms, and the variance is {format(np.var(i[2]),'.3f')}\")"
   ]
  },
  {
   "cell_type": "code",
   "execution_count": 15,
   "metadata": {},
   "outputs": [
    {
     "name": "stdout",
     "output_type": "stream",
     "text": [
      "DATING query, the max time is 9.237 ms, the average time is 7.497 ms, and the variance is 0.836\n",
      "MONEY query, the max time is 7.590 ms, the average time is 7.226 ms, and the variance is 0.124\n",
      "CENTRAL query, the max time is 8.352 ms, the average time is 7.663 ms, and the variance is 0.160\n"
     ]
    }
   ],
   "source": [
    "import pickle \n",
    "import numpy as np\n",
    "with open(\"result/ytb_static.pkl\",\"rb+\") as f:\n",
    "    data_ytb = pickle.loads(f.read()) \n",
    "\n",
    "for i in data_ytb:\n",
    "    print(f\"{i[1]} query, the max time is {format(np.max(i[2]),'.3f')} ms, the average time is {format(np.mean(i[2]),'.3f')} ms, and the variance is {format(np.var(i[2]),'.3f')}\")"
   ]
  },
  {
   "cell_type": "code",
   "execution_count": 13,
   "metadata": {},
   "outputs": [
    {
     "name": "stdout",
     "output_type": "stream",
     "text": [
      "DATING query, the max time is 19943.189 ms, the average time is 6235.032 ms, and the variance is 29056680.607\n",
      "MONEY query, the max time is 4631.342 ms, the average time is 183.921 ms, and the variance is 70554.251\n",
      "CENTRAL query, the max time is 35.843 ms, the average time is 17.587 ms, and the variance is 24.206\n"
     ]
    }
   ],
   "source": [
    "import pickle \n",
    "import numpy as np\n",
    "with open(\"fb_res.pkl\",\"rb+\") as f:\n",
    "    data_fb = pickle.loads(f.read()) \n",
    "\n",
    "for i in data_fb:\n",
    "    print(f\"{i[1]} query, the max time is {format(np.max(i[2]),'.3f')} ms, the average time is {format(np.mean(i[2]),'.3f')} ms, and the variance is {format(np.var(i[2]),'.3f')}\")\n"
   ]
  },
  {
   "cell_type": "code",
   "execution_count": null,
   "metadata": {},
   "outputs": [],
   "source": []
  }
 ],
 "metadata": {
  "kernelspec": {
   "display_name": "venv",
   "language": "python",
   "name": "python3"
  },
  "language_info": {
   "codemirror_mode": {
    "name": "ipython",
    "version": 3
   },
   "file_extension": ".py",
   "mimetype": "text/x-python",
   "name": "python",
   "nbconvert_exporter": "python",
   "pygments_lexer": "ipython3",
   "version": "3.10.12"
  }
 },
 "nbformat": 4,
 "nbformat_minor": 2
}
